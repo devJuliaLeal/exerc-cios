{
 "cells": [
  {
   "cell_type": "code",
   "execution_count": 9,
   "metadata": {},
   "outputs": [
    {
     "name": "stdout",
     "output_type": "stream",
     "text": [
      "O tanto a pagar por dia é 375 reais\n"
     ]
    }
   ],
   "source": [
    "km = int(input('Quantos km: '))\n",
    "dias = int(input('Quantos dias: ')) \n",
    "preço_dias = int(60 * dias)\n",
    "preço_km = int(0.15 * km)\n",
    "preço_final = preço_dias + preço_km\n",
    "print('O tanto a pagar por dia é {} reais'.format(preço_final))"
   ]
  },
  {
   "cell_type": "code",
   "execution_count": 10,
   "metadata": {},
   "outputs": [
    {
     "name": "stdout",
     "output_type": "stream",
     "text": [
      "O tanto a pagar por dia é 373.50 reais\n"
     ]
    }
   ],
   "source": [
    "km = int(input('Quantos km: '))\n",
    "dias = int(input('Quantos dias: ')) \n",
    "pago = (dias*60) + ( km*0.15)\n",
    "print('O tanto a pagar por dia é {:.2f} reais'.format(pago))"
   ]
  }
 ],
 "metadata": {
  "kernelspec": {
   "display_name": "Python 3",
   "language": "python",
   "name": "python3"
  },
  "language_info": {
   "codemirror_mode": {
    "name": "ipython",
    "version": 3
   },
   "file_extension": ".py",
   "mimetype": "text/x-python",
   "name": "python",
   "nbconvert_exporter": "python",
   "pygments_lexer": "ipython3",
   "version": "3.10.10"
  },
  "orig_nbformat": 4,
  "vscode": {
   "interpreter": {
    "hash": "5467f49f1deb8533bd00aba06e3a64679c65ae9269547c465a8a46202c2e3e64"
   }
  }
 },
 "nbformat": 4,
 "nbformat_minor": 2
}
