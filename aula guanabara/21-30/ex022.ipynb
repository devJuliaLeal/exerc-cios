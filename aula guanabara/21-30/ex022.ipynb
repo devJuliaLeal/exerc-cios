{
 "cells": [
  {
   "cell_type": "code",
   "execution_count": 26,
   "metadata": {},
   "outputs": [
    {
     "name": "stdout",
     "output_type": "stream",
     "text": [
      "o\n"
     ]
    }
   ],
   "source": [
    "frase = '  Curso em Vídeo Python'\n",
    "list = frase.split()\n",
    "print(list[2][4]) \n"
   ]
  },
  {
   "cell_type": "code",
   "execution_count": 27,
   "metadata": {},
   "outputs": [
    {
     "name": "stdout",
     "output_type": "stream",
     "text": [
      "JULIA\n"
     ]
    }
   ],
   "source": [
    "nome = input(str('Qual seu nome'))\n",
    "print(nome.upper())\n"
   ]
  },
  {
   "cell_type": "code",
   "execution_count": 28,
   "metadata": {},
   "outputs": [
    {
     "name": "stdout",
     "output_type": "stream",
     "text": [
      "julia\n"
     ]
    }
   ],
   "source": [
    "nome = input(str('Qual seu nome? '))\n",
    "print(nome.lower())\n"
   ]
  },
  {
   "cell_type": "code",
   "execution_count": 36,
   "metadata": {},
   "outputs": [
    {
     "name": "stdout",
     "output_type": "stream",
     "text": [
      "['julia']\n"
     ]
    }
   ],
   "source": [
    "nome = input(str('Qual seu nome? '))\n",
    "nome_sem_espaços = nome.split()\n",
    "print(nome_sem_espaços)"
   ]
  },
  {
   "cell_type": "code",
   "execution_count": 50,
   "metadata": {},
   "outputs": [
    {
     "name": "stdout",
     "output_type": "stream",
     "text": [
      "Maiuscula é JULIA LEAL\n",
      "Minpuscula é julia leal\n",
      "Tem 9 letras\n",
      "Seu primeiro nome tem 5\n"
     ]
    }
   ],
   "source": [
    "nome = input(str('Qual seu nome? ')).strip()\n",
    "\n",
    "print('Maiuscula é {}'.format(nome.upper()))\n",
    "print('Minpuscula é {}'.format(nome.lower()))\n",
    "print('Tem {} letras'.format(len(nome) - nome.count(\" \")))\n",
    "print('Seu primeiro nome tem {} letras'.format(nome.find(' ')))\n"
   ]
  }
 ],
 "metadata": {
  "kernelspec": {
   "display_name": "Python 3",
   "language": "python",
   "name": "python3"
  },
  "language_info": {
   "codemirror_mode": {
    "name": "ipython",
    "version": 3
   },
   "file_extension": ".py",
   "mimetype": "text/x-python",
   "name": "python",
   "nbconvert_exporter": "python",
   "pygments_lexer": "ipython3",
   "version": "3.10.10"
  },
  "orig_nbformat": 4,
  "vscode": {
   "interpreter": {
    "hash": "5467f49f1deb8533bd00aba06e3a64679c65ae9269547c465a8a46202c2e3e64"
   }
  }
 },
 "nbformat": 4,
 "nbformat_minor": 2
}
