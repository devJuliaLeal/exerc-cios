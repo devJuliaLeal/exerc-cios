{
 "cells": [
  {
   "cell_type": "code",
   "execution_count": 2,
   "metadata": {},
   "outputs": [
    {
     "name": "stdout",
     "output_type": "stream",
     "text": [
      "A tabuada do 3 é 3, 6, 9, 12, 15, 18, 21, 24, 27\n"
     ]
    }
   ],
   "source": [
    "n0 = int(input('Um número'))\n",
    "n1 = n0 \n",
    "n2 = n0 * 2\n",
    "n3 = n0 * 3\n",
    "n4 = n0 * 4\n",
    "n5 = n0 * 5\n",
    "n6 = n0 * 6\n",
    "n7 = n0 * 7\n",
    "n8 = n0 * 8\n",
    "n9 = n0 * 9\n",
    "\n",
    "print('A tabuada do {} é {}, {}, {}, {}, {}, {}, {}, {}, {}'.format(n0, n1, n2, n3, n4, n5, n6, n7, n8, n9))\n"
   ]
  },
  {
   "cell_type": "code",
   "execution_count": 1,
   "metadata": {},
   "outputs": [
    {
     "name": "stdout",
     "output_type": "stream",
     "text": [
      "A tabuada do 9 é 9, 18, 27, 36, 45, 54, 63, 72, 81\n"
     ]
    }
   ],
   "source": [
    "n0 = int(input('Um número: '))\n",
    "tabuada = [n0 * i for i in range(1, 10)]\n",
    "print('A tabuada do {} é {}'.format(n0, ', '.join(map(str, tabuada))))\n",
    "\n"
   ]
  },
  {
   "cell_type": "code",
   "execution_count": 2,
   "metadata": {},
   "outputs": [
    {
     "name": "stdout",
     "output_type": "stream",
     "text": [
      "5 x 1\n"
     ]
    }
   ],
   "source": [
    "num = int(input('Um número: ')) \n",
    "print('{} x {}'.format(num, 1, num*1))\n"
   ]
  }
 ],
 "metadata": {
  "kernelspec": {
   "display_name": "Python 3",
   "language": "python",
   "name": "python3"
  },
  "language_info": {
   "codemirror_mode": {
    "name": "ipython",
    "version": 3
   },
   "file_extension": ".py",
   "mimetype": "text/x-python",
   "name": "python",
   "nbconvert_exporter": "python",
   "pygments_lexer": "ipython3",
   "version": "3.10.10"
  },
  "orig_nbformat": 4,
  "vscode": {
   "interpreter": {
    "hash": "5467f49f1deb8533bd00aba06e3a64679c65ae9269547c465a8a46202c2e3e64"
   }
  }
 },
 "nbformat": 4,
 "nbformat_minor": 2
}
