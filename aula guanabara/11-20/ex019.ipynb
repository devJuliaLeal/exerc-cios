{
 "cells": [
  {
   "cell_type": "code",
   "execution_count": 5,
   "metadata": {},
   "outputs": [
    {
     "name": "stdout",
     "output_type": "stream",
     "text": [
      " o aluno escolhido foi 4\n"
     ]
    }
   ],
   "source": [
    "import random\n",
    "\n",
    "n1 = str(input('aluno:'))\n",
    "n2 = str(input('aluno:'))\n",
    "n3 = str(input('aluno:'))\n",
    "n4 = str(input('aluno:'))\n",
    "lista = [n1, n2, n3, n4]\n",
    "escolhido = random.choice(lista)\n",
    "print(' o aluno escolhido foi {}'.format(escolhido))"
   ]
  }
 ],
 "metadata": {
  "kernelspec": {
   "display_name": "Python 3",
   "language": "python",
   "name": "python3"
  },
  "language_info": {
   "codemirror_mode": {
    "name": "ipython",
    "version": 3
   },
   "file_extension": ".py",
   "mimetype": "text/x-python",
   "name": "python",
   "nbconvert_exporter": "python",
   "pygments_lexer": "ipython3",
   "version": "3.10.10"
  },
  "orig_nbformat": 4,
  "vscode": {
   "interpreter": {
    "hash": "5467f49f1deb8533bd00aba06e3a64679c65ae9269547c465a8a46202c2e3e64"
   }
  }
 },
 "nbformat": 4,
 "nbformat_minor": 2
}
