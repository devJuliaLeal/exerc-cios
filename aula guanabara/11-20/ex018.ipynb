{
 "cells": [
  {
   "cell_type": "code",
   "execution_count": 4,
   "metadata": {},
   "outputs": [
    {
     "name": "stdout",
     "output_type": "stream",
     "text": [
      "0.8660254037844386, 0.5000000000000001,1.7320508075688767\n"
     ]
    }
   ],
   "source": [
    "import math \n",
    "ang = float(input('angulo: '))\n",
    "seno = math.sin(math.radians(ang))\n",
    "coss = math.cos(math.radians(ang))\n",
    "tg = math.tan(math.radians(ang))\n",
    "print ('{}, {},{}'.format(seno,coss, tg))\n"
   ]
  }
 ],
 "metadata": {
  "kernelspec": {
   "display_name": "Python 3",
   "language": "python",
   "name": "python3"
  },
  "language_info": {
   "codemirror_mode": {
    "name": "ipython",
    "version": 3
   },
   "file_extension": ".py",
   "mimetype": "text/x-python",
   "name": "python",
   "nbconvert_exporter": "python",
   "pygments_lexer": "ipython3",
   "version": "3.10.10"
  },
  "orig_nbformat": 4,
  "vscode": {
   "interpreter": {
    "hash": "5467f49f1deb8533bd00aba06e3a64679c65ae9269547c465a8a46202c2e3e64"
   }
  }
 },
 "nbformat": 4,
 "nbformat_minor": 2
}
