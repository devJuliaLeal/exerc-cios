{
 "cells": [
  {
   "cell_type": "code",
   "execution_count": 7,
   "metadata": {},
   "outputs": [
    {
     "name": "stdout",
     "output_type": "stream",
     "text": [
      "O dobro é 4.0 o triplo é 6.0 e a raiz quadrada é 1.4\n"
     ]
    }
   ],
   "source": [
    "n1 = float(input('Colque um número'))\n",
    "n2 = n1*2\n",
    "n3 = n1*3\n",
    "n4 = n1**(1/2)\n",
    "print('O dobro é {} o triplo é {} e a raiz quadrada é {:.1f}'.format(n2, n3, n4))"
   ]
  },
  {
   "cell_type": "code",
   "execution_count": 12,
   "metadata": {},
   "outputs": [
    {
     "name": "stdout",
     "output_type": "stream",
     "text": [
      "O dobro é 4 o triplo é 6 e a raiz quadrada é 1.41\n"
     ]
    }
   ],
   "source": [
    "n = int(input('Digite um número :'))\n",
    "print('O dobro é {} o triplo é {} e a raiz quadrada é {:.2f}'.format((n*2), (n*3), (n**(1/2))))"
   ]
  }
 ],
 "metadata": {
  "kernelspec": {
   "display_name": "Python 3",
   "language": "python",
   "name": "python3"
  },
  "language_info": {
   "codemirror_mode": {
    "name": "ipython",
    "version": 3
   },
   "file_extension": ".py",
   "mimetype": "text/x-python",
   "name": "python",
   "nbconvert_exporter": "python",
   "pygments_lexer": "ipython3",
   "version": "3.10.10"
  },
  "orig_nbformat": 4,
  "vscode": {
   "interpreter": {
    "hash": "5467f49f1deb8533bd00aba06e3a64679c65ae9269547c465a8a46202c2e3e64"
   }
  }
 },
 "nbformat": 4,
 "nbformat_minor": 2
}
