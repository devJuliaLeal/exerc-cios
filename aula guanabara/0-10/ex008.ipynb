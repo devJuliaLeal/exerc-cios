{
 "cells": [
  {
   "cell_type": "code",
   "execution_count": 5,
   "metadata": {},
   "outputs": [
    {
     "name": "stdout",
     "output_type": "stream",
     "text": [
      "Tem 100.0 centímetros e 1000.0 milimetros\n"
     ]
    }
   ],
   "source": [
    "metros = float(input('Coloque um valor:'))\n",
    "centímetros = metros * 100\n",
    "milimetros = metros * 1000\n",
    "print('Tem {:.1f} centímetros e {:.1f} milimetros'.format(centímetros, milimetros))\n"
   ]
  },
  {
   "cell_type": "code",
   "execution_count": null,
   "metadata": {},
   "outputs": [],
   "source": []
  }
 ],
 "metadata": {
  "kernelspec": {
   "display_name": "Python 3",
   "language": "python",
   "name": "python3"
  },
  "language_info": {
   "codemirror_mode": {
    "name": "ipython",
    "version": 3
   },
   "file_extension": ".py",
   "mimetype": "text/x-python",
   "name": "python",
   "nbconvert_exporter": "python",
   "pygments_lexer": "ipython3",
   "version": "3.10.10"
  },
  "orig_nbformat": 4,
  "vscode": {
   "interpreter": {
    "hash": "5467f49f1deb8533bd00aba06e3a64679c65ae9269547c465a8a46202c2e3e64"
   }
  }
 },
 "nbformat": 4,
 "nbformat_minor": 2
}
