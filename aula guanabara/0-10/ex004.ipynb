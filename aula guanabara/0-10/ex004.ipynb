{
 "cells": [
  {
   "cell_type": "code",
   "execution_count": 6,
   "metadata": {},
   "outputs": [
    {
     "name": "stdout",
     "output_type": "stream",
     "text": [
      "o tipo primitivo desse valor é  <class 'str'>\n",
      "É numerico? False\n",
      "É alfabético? True\n",
      "É alfanumerico? True\n",
      "É maiuscula? False\n",
      "É minuscula? True\n"
     ]
    }
   ],
   "source": [
    "\n",
    "x = input('digite algo')\n",
    "print('o tipo primitivo desse valor é ', type(x))\n",
    "print('É numerico?' , x.isnumeric())\n",
    "print('É alfabético?' , x.isalpha())\n",
    "print('É alfanumerico?' , x.isalnum())\n",
    "print('É maiuscula?' , x.isupper())\n",
    "print('É minuscula?' , x.islower())\n"
   ]
  },
  {
   "cell_type": "code",
   "execution_count": null,
   "metadata": {},
   "outputs": [],
   "source": []
  }
 ],
 "metadata": {
  "kernelspec": {
   "display_name": "Python 3",
   "language": "python",
   "name": "python3"
  },
  "language_info": {
   "codemirror_mode": {
    "name": "ipython",
    "version": 3
   },
   "file_extension": ".py",
   "mimetype": "text/x-python",
   "name": "python",
   "nbconvert_exporter": "python",
   "pygments_lexer": "ipython3",
   "version": "3.10.10"
  },
  "orig_nbformat": 4,
  "vscode": {
   "interpreter": {
    "hash": "5467f49f1deb8533bd00aba06e3a64679c65ae9269547c465a8a46202c2e3e64"
   }
  }
 },
 "nbformat": 4,
 "nbformat_minor": 2
}
